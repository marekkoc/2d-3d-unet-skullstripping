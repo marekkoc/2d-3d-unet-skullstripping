{
 "cells": [
  {
   "cell_type": "markdown",
   "metadata": {},
   "source": [
    "Created: 2020.08.24\n",
    "\n",
    "Modified: 2020.08.24"
   ]
  },
  {
   "cell_type": "code",
   "execution_count": 1,
   "metadata": {},
   "outputs": [],
   "source": [
    "%reload_ext autoreload\n",
    "%autoreload 2"
   ]
  },
  {
   "cell_type": "code",
   "execution_count": 2,
   "metadata": {},
   "outputs": [],
   "source": [
    "from fastai.vision import *\n",
    "from fastai.callbacks.hooks import *\n",
    "from fastai.utils.mem import *\n",
    "from fastai.core import parallel"
   ]
  },
  {
   "cell_type": "code",
   "execution_count": 3,
   "metadata": {},
   "outputs": [],
   "source": [
    "import glob\n",
    "import nibabel as nib\n",
    "import pandas as pd\n",
    "import numpy as np\n",
    "import imageio as io\n",
    "from pathlib import Path\n",
    "import matplotlib.pyplot as plt\n",
    "from fastai.core import parallel\n",
    "\n",
    "from sklearn.metrics import jaccard_score\n",
    "from scipy.spatial.distance import directed_hausdorff"
   ]
  },
  {
   "cell_type": "code",
   "execution_count": 4,
   "metadata": {},
   "outputs": [],
   "source": [
    "MAIN_PTH = Path(f'/data-10tb/shared/skull/al-image/')\n",
    "\n",
    "IMAGE_PTH = MAIN_PTH / 'image'\n",
    "AXIAL_PTH = MAIN_PTH / 'axial-2d'\n",
    "SAGITTAL_PTH = MAIN_PTH / 'sagittal-2d'\n",
    "CORONAL_PTH = MAIN_PTH / 'coronal-2d'\n",
    "\n",
    "\n",
    "IMAGE_PTH.mkdir(parents=True, exist_ok=True)\n",
    "AXIAL_PTH.mkdir(parents=True, exist_ok=True)\n",
    "SAGITTAL_PTH.mkdir(parents=True, exist_ok=True)\n",
    "CORONAL_PTH.mkdir(parents=True, exist_ok=True)\n",
    "\n",
    "IMAGE_T1 = IMAGE_PTH / 'T1.nii.gz'\n",
    "IMAGE_BIAS = IMAGE_PTH / 'T1_biascorr.nii.gz'\n",
    "IMAGE_MSK = IMAGE_PTH / 'T1_biascorr_brain_mask.nii.gz'"
   ]
  },
  {
   "cell_type": "markdown",
   "metadata": {},
   "source": [
    "### Split 3D image into 2D slices"
   ]
  },
  {
   "cell_type": "markdown",
   "metadata": {},
   "source": [
    "#### Axial / Coronal / Sagittal"
   ]
  },
  {
   "cell_type": "code",
   "execution_count": 5,
   "metadata": {},
   "outputs": [],
   "source": [
    "split = 0\n",
    "\n",
    "if split:\n",
    "    axial = 0\n",
    "    coronal = 0\n",
    "    sagittal = 1\n",
    "\n",
    "    # 3D image file name ¤# T1 / T1_biascorr / T1_biascorr_brain_mask\n",
    "    name = \"T1_biascorr_brain_mask\"\n",
    "    image = IMAGE_MSK\n",
    "\n",
    "    if axial:    \n",
    "        filename = AXIAL_PTH / name    \n",
    "        im3d = nib.load(image).get_fdata()\n",
    "        sl = im3d.shape[2] \n",
    "\n",
    "    if coronal:    \n",
    "        filename = CORONAL_PTH / name    \n",
    "        im3d = nib.load(image).get_fdata()\n",
    "        sl = im3d.shape[1] \n",
    "\n",
    "    if sagittal:\n",
    "        filename = SAGITTAL_PTH / name    \n",
    "        im3d = nib.load(image).get_fdata()\n",
    "        sl = im3d.shape[0] \n",
    "\n",
    "\n",
    "    # T1 or MASK image\n",
    "    if 'mask' in str(filename):\n",
    "        mask = True\n",
    "        im3d = im3d.astype(np.uint8)\n",
    "    else:\n",
    "        mask = False\n",
    "        ### STANDARYZACJA\n",
    "        im3d -= im3d.mean()\n",
    "        im3d /= im3d.std()  \n",
    "\n",
    "\n",
    "    for k in range(sl):\n",
    "        filename_png = f'{filename}_{k:03}.png'\n",
    "        path_png = AXIAL_PTH/filename_png\n",
    "\n",
    "        if not path_png.exists():\n",
    "            if mask:\n",
    "                if axial:\n",
    "                    io.imsave(path_png, np.where(im3d[:,:,k]>=1, 1, 0).astype(np.uint8))\n",
    "                if coronal:\n",
    "                    io.imsave(path_png, np.where(im3d[:,k,:]>=1, 1, 0).astype(np.uint8))\n",
    "                if sagittal:\n",
    "                    io.imsave(path_png, np.where(im3d[k,:,:]>=1, 1, 0).astype(np.uint8))\n",
    "            else:\n",
    "                if axial:\n",
    "                    plt.imsave(path_png, im3d[:,:,k], cmap='gray')\n",
    "                if coronal:\n",
    "                    plt.imsave(path_png, im3d[:,k,:], cmap='gray')\n",
    "                if sagittal:\n",
    "                    plt.imsave(path_png, im3d[k,:,:], cmap='gray')\n",
    "\n",
    "    print('Done')"
   ]
  },
  {
   "cell_type": "markdown",
   "metadata": {},
   "source": [
    "### Create df for testing"
   ]
  },
  {
   "cell_type": "code",
   "execution_count": 6,
   "metadata": {},
   "outputs": [
    {
     "name": "stdout",
     "output_type": "stream",
     "text": [
      "181 181 181\n"
     ]
    }
   ],
   "source": [
    "PLANE = AXIAL_PTH\n",
    "PLANE_NAME = 'axial'\n",
    "IMAGET_TYPE = 't1' # t1 OR bias # not utse yet\n",
    "\n",
    "t1_pth = sorted(glob.glob(f'{PLANE}/T1_[0-9]*.png'))\n",
    "bias_pth = sorted(glob.glob(f'{PLANE}/T1_biascorr_[0-9]*.png'))\n",
    "msk_pth = sorted(glob.glob(f'{PLANE}/T1_biascorr_brain_mask*.png'))\n",
    "\n",
    "t1_pth = [Path(p) for p in t1_pth] \n",
    "bias_pth = [Path(p) for p in bias_pth] \n",
    "msk_pth = [Path(p) for p in msk_pth] \n",
    "\n",
    "root = [p.parent for p in t1_pth] \n",
    "t1_list = [p.name for p in t1_pth] \n",
    "bias_list = [p.name for p in bias_pth]\n",
    "print(len(root), len(t1_list), len(bias_list))"
   ]
  },
  {
   "cell_type": "code",
   "execution_count": 7,
   "metadata": {},
   "outputs": [
    {
     "name": "stdout",
     "output_type": "stream",
     "text": [
      "(181, 5)\n"
     ]
    },
    {
     "data": {
      "text/html": [
       "<div>\n",
       "<style scoped>\n",
       "    .dataframe tbody tr th:only-of-type {\n",
       "        vertical-align: middle;\n",
       "    }\n",
       "\n",
       "    .dataframe tbody tr th {\n",
       "        vertical-align: top;\n",
       "    }\n",
       "\n",
       "    .dataframe thead th {\n",
       "        text-align: right;\n",
       "    }\n",
       "</style>\n",
       "<table border=\"1\" class=\"dataframe\">\n",
       "  <thead>\n",
       "    <tr style=\"text-align: right;\">\n",
       "      <th></th>\n",
       "      <th>root</th>\n",
       "      <th>t1</th>\n",
       "      <th>bias</th>\n",
       "      <th>msk</th>\n",
       "      <th>usage</th>\n",
       "    </tr>\n",
       "  </thead>\n",
       "  <tbody>\n",
       "    <tr>\n",
       "      <td>0</td>\n",
       "      <td>/data-10tb/shared/skull/al-image/axial-2d</td>\n",
       "      <td>T1_000.png</td>\n",
       "      <td>T1_biascorr_000.png</td>\n",
       "      <td>/data-10tb/shared/skull/al-image/axial-2d/T1_b...</td>\n",
       "      <td>True</td>\n",
       "    </tr>\n",
       "    <tr>\n",
       "      <td>1</td>\n",
       "      <td>/data-10tb/shared/skull/al-image/axial-2d</td>\n",
       "      <td>T1_001.png</td>\n",
       "      <td>T1_biascorr_001.png</td>\n",
       "      <td>/data-10tb/shared/skull/al-image/axial-2d/T1_b...</td>\n",
       "      <td>True</td>\n",
       "    </tr>\n",
       "    <tr>\n",
       "      <td>2</td>\n",
       "      <td>/data-10tb/shared/skull/al-image/axial-2d</td>\n",
       "      <td>T1_002.png</td>\n",
       "      <td>T1_biascorr_002.png</td>\n",
       "      <td>/data-10tb/shared/skull/al-image/axial-2d/T1_b...</td>\n",
       "      <td>True</td>\n",
       "    </tr>\n",
       "    <tr>\n",
       "      <td>3</td>\n",
       "      <td>/data-10tb/shared/skull/al-image/axial-2d</td>\n",
       "      <td>T1_003.png</td>\n",
       "      <td>T1_biascorr_003.png</td>\n",
       "      <td>/data-10tb/shared/skull/al-image/axial-2d/T1_b...</td>\n",
       "      <td>True</td>\n",
       "    </tr>\n",
       "    <tr>\n",
       "      <td>4</td>\n",
       "      <td>/data-10tb/shared/skull/al-image/axial-2d</td>\n",
       "      <td>T1_004.png</td>\n",
       "      <td>T1_biascorr_004.png</td>\n",
       "      <td>/data-10tb/shared/skull/al-image/axial-2d/T1_b...</td>\n",
       "      <td>True</td>\n",
       "    </tr>\n",
       "  </tbody>\n",
       "</table>\n",
       "</div>"
      ],
      "text/plain": [
       "                                        root          t1                 bias  \\\n",
       "0  /data-10tb/shared/skull/al-image/axial-2d  T1_000.png  T1_biascorr_000.png   \n",
       "1  /data-10tb/shared/skull/al-image/axial-2d  T1_001.png  T1_biascorr_001.png   \n",
       "2  /data-10tb/shared/skull/al-image/axial-2d  T1_002.png  T1_biascorr_002.png   \n",
       "3  /data-10tb/shared/skull/al-image/axial-2d  T1_003.png  T1_biascorr_003.png   \n",
       "4  /data-10tb/shared/skull/al-image/axial-2d  T1_004.png  T1_biascorr_004.png   \n",
       "\n",
       "                                                 msk  usage  \n",
       "0  /data-10tb/shared/skull/al-image/axial-2d/T1_b...   True  \n",
       "1  /data-10tb/shared/skull/al-image/axial-2d/T1_b...   True  \n",
       "2  /data-10tb/shared/skull/al-image/axial-2d/T1_b...   True  \n",
       "3  /data-10tb/shared/skull/al-image/axial-2d/T1_b...   True  \n",
       "4  /data-10tb/shared/skull/al-image/axial-2d/T1_b...   True  "
      ]
     },
     "execution_count": 7,
     "metadata": {},
     "output_type": "execute_result"
    }
   ],
   "source": [
    "df_test = pd.DataFrame.from_dict({'root':root, 't1':t1_list, 'bias':bias_list, 'msk':msk_pth})\n",
    "df_test['usage'] = True\n",
    "print(df_test.shape)\n",
    "df_test.head()"
   ]
  },
  {
   "cell_type": "markdown",
   "metadata": {},
   "source": [
    "### df for training"
   ]
  },
  {
   "cell_type": "code",
   "execution_count": 8,
   "metadata": {},
   "outputs": [
    {
     "data": {
      "text/html": [
       "<div>\n",
       "<style scoped>\n",
       "    .dataframe tbody tr th:only-of-type {\n",
       "        vertical-align: middle;\n",
       "    }\n",
       "\n",
       "    .dataframe tbody tr th {\n",
       "        vertical-align: top;\n",
       "    }\n",
       "\n",
       "    .dataframe thead th {\n",
       "        text-align: right;\n",
       "    }\n",
       "</style>\n",
       "<table border=\"1\" class=\"dataframe\">\n",
       "  <thead>\n",
       "    <tr style=\"text-align: right;\">\n",
       "      <th></th>\n",
       "      <th>root</th>\n",
       "      <th>t1</th>\n",
       "      <th>bias</th>\n",
       "      <th>msk</th>\n",
       "      <th>usage</th>\n",
       "    </tr>\n",
       "  </thead>\n",
       "  <tbody>\n",
       "    <tr>\n",
       "      <td>0</td>\n",
       "      <td>/data-10tb/shared/skull/al-image/axial-2d</td>\n",
       "      <td>T1_000.png</td>\n",
       "      <td>T1_biascorr_000.png</td>\n",
       "      <td>/data-10tb/shared/skull/al-image/axial-2d/T1_b...</td>\n",
       "      <td>False</td>\n",
       "    </tr>\n",
       "    <tr>\n",
       "      <td>1</td>\n",
       "      <td>/data-10tb/shared/skull/al-image/axial-2d</td>\n",
       "      <td>T1_001.png</td>\n",
       "      <td>T1_biascorr_001.png</td>\n",
       "      <td>/data-10tb/shared/skull/al-image/axial-2d/T1_b...</td>\n",
       "      <td>False</td>\n",
       "    </tr>\n",
       "    <tr>\n",
       "      <td>2</td>\n",
       "      <td>/data-10tb/shared/skull/al-image/axial-2d</td>\n",
       "      <td>T1_002.png</td>\n",
       "      <td>T1_biascorr_002.png</td>\n",
       "      <td>/data-10tb/shared/skull/al-image/axial-2d/T1_b...</td>\n",
       "      <td>False</td>\n",
       "    </tr>\n",
       "    <tr>\n",
       "      <td>3</td>\n",
       "      <td>/data-10tb/shared/skull/al-image/axial-2d</td>\n",
       "      <td>T1_003.png</td>\n",
       "      <td>T1_biascorr_003.png</td>\n",
       "      <td>/data-10tb/shared/skull/al-image/axial-2d/T1_b...</td>\n",
       "      <td>False</td>\n",
       "    </tr>\n",
       "    <tr>\n",
       "      <td>4</td>\n",
       "      <td>/data-10tb/shared/skull/al-image/axial-2d</td>\n",
       "      <td>T1_004.png</td>\n",
       "      <td>T1_biascorr_004.png</td>\n",
       "      <td>/data-10tb/shared/skull/al-image/axial-2d/T1_b...</td>\n",
       "      <td>False</td>\n",
       "    </tr>\n",
       "  </tbody>\n",
       "</table>\n",
       "</div>"
      ],
      "text/plain": [
       "                                        root          t1                 bias  \\\n",
       "0  /data-10tb/shared/skull/al-image/axial-2d  T1_000.png  T1_biascorr_000.png   \n",
       "1  /data-10tb/shared/skull/al-image/axial-2d  T1_001.png  T1_biascorr_001.png   \n",
       "2  /data-10tb/shared/skull/al-image/axial-2d  T1_002.png  T1_biascorr_002.png   \n",
       "3  /data-10tb/shared/skull/al-image/axial-2d  T1_003.png  T1_biascorr_003.png   \n",
       "4  /data-10tb/shared/skull/al-image/axial-2d  T1_004.png  T1_biascorr_004.png   \n",
       "\n",
       "                                                 msk  usage  \n",
       "0  /data-10tb/shared/skull/al-image/axial-2d/T1_b...  False  \n",
       "1  /data-10tb/shared/skull/al-image/axial-2d/T1_b...  False  \n",
       "2  /data-10tb/shared/skull/al-image/axial-2d/T1_b...  False  \n",
       "3  /data-10tb/shared/skull/al-image/axial-2d/T1_b...  False  \n",
       "4  /data-10tb/shared/skull/al-image/axial-2d/T1_b...  False  "
      ]
     },
     "execution_count": 8,
     "metadata": {},
     "output_type": "execute_result"
    }
   ],
   "source": [
    "df_train = df_test.iloc[:3*4, :].copy(deep=True)\n",
    "df_train['usage'] = df_train['usage'].replace(True,False)\n",
    "df_train.head()"
   ]
  },
  {
   "cell_type": "markdown",
   "metadata": {},
   "source": [
    "#### Concatenate both df's"
   ]
  },
  {
   "cell_type": "code",
   "execution_count": 9,
   "metadata": {},
   "outputs": [
    {
     "name": "stdout",
     "output_type": "stream",
     "text": [
      "(193, 5)\n"
     ]
    }
   ],
   "source": [
    "df_main = pd.concat([df_train, df_test])\n",
    "print(df_main.shape)\n",
    "df_main.head(15)\n",
    "\n",
    "DF_PTH = f'{MAIN_PTH}/{PLANE_NAME}.csv'\n",
    "df_main.to_csv(DF_PTH)"
   ]
  },
  {
   "cell_type": "markdown",
   "metadata": {},
   "source": [
    "### Create a loader"
   ]
  },
  {
   "cell_type": "code",
   "execution_count": 10,
   "metadata": {},
   "outputs": [],
   "source": [
    "# item list\n",
    "il = SegmentationItemList.from_df(df_main, PLANE, cols='t1', convert_mode='L')"
   ]
  },
  {
   "cell_type": "code",
   "execution_count": 11,
   "metadata": {},
   "outputs": [],
   "source": [
    "# split data\n",
    "sd = il.split_from_df(col='usage')"
   ]
  },
  {
   "cell_type": "code",
   "execution_count": 12,
   "metadata": {},
   "outputs": [
    {
     "data": {
      "text/plain": [
       "array(['background', 'brain'], dtype='<U10')"
      ]
     },
     "execution_count": 12,
     "metadata": {},
     "output_type": "execute_result"
    }
   ],
   "source": [
    "codes = np.loadtxt(MAIN_PTH/'codes.txt', dtype=str); codes"
   ]
  },
  {
   "cell_type": "code",
   "execution_count": 13,
   "metadata": {},
   "outputs": [],
   "source": [
    "# label list\n",
    "ll = sd.label_from_df(cols='msk', classes=codes)"
   ]
  },
  {
   "cell_type": "code",
   "execution_count": 14,
   "metadata": {},
   "outputs": [],
   "source": [
    "tmfs2 = get_transforms(do_flip=True, flip_vert=False,\n",
    "                      max_rotate=15, max_zoom=1.05,\n",
    "                      max_lighting=0.2, max_warp=None,\n",
    "                      p_affine=0.5, p_lighting=0.5\n",
    "                      )\n",
    "bs=4\n",
    "size = 128"
   ]
  },
  {
   "cell_type": "code",
   "execution_count": 15,
   "metadata": {},
   "outputs": [],
   "source": [
    "ll = ll.transform(tmfs2, tfm_y=True, size=size, padding_mode='zeros', resize_method=ResizeMethod.PAD)"
   ]
  },
  {
   "cell_type": "code",
   "execution_count": 16,
   "metadata": {},
   "outputs": [],
   "source": [
    "data = ll.databunch(bs=bs).normalize(imagenet_stats)"
   ]
  },
  {
   "cell_type": "code",
   "execution_count": 17,
   "metadata": {},
   "outputs": [
    {
     "data": {
      "text/plain": [
       "(Image (1, 128, 128), ImageSegment (1, 128, 128))"
      ]
     },
     "execution_count": 17,
     "metadata": {},
     "output_type": "execute_result"
    }
   ],
   "source": [
    "data.train_ds[0]"
   ]
  },
  {
   "cell_type": "code",
   "execution_count": 18,
   "metadata": {},
   "outputs": [
    {
     "data": {
      "image/png": "[encoded data removed]",
      "text/plain": [
       "<Figure size 504x504 with 4 Axes>"
      ]
     },
     "metadata": {
      "needs_background": "light"
     },
     "output_type": "display_data"
    }
   ],
   "source": [
    "data.show_batch(2, figsize=(7,7))"
   ]
  },
  {
   "cell_type": "code",
   "execution_count": 19,
   "metadata": {},
   "outputs": [],
   "source": [
    "# load a model\n",
    "wd=1e-2\n",
    "learn = unet_learner(data, models.resnet34, metrics=dice, wd=wd)\n",
    "learn.load('3.01_02_train-axial_bias_uf_foc-20_lr-1e3_sp-all');"
   ]
  },
  {
   "cell_type": "markdown",
   "metadata": {},
   "source": [
    "### Create an empty arrrays for results (fsl_128, pred_128, x_128)"
   ]
  },
  {
   "cell_type": "code",
   "execution_count": 20,
   "metadata": {},
   "outputs": [
    {
     "name": "stdout",
     "output_type": "stream",
     "text": [
      "CPU times: user 2.13 ms, sys: 173 µs, total: 2.3 ms\n",
      "Wall time: 1.95 ms\n"
     ]
    }
   ],
   "source": [
    "%%time\n",
    "create = 1\n",
    "if create:\n",
    "    # tworzymy macierze z obrazami\n",
    "    n = len(learn.data.valid_dl.dataset.items)\n",
    "    fsl_128 = np.zeros((n, 128, 128), dtype=np.uint8)\n",
    "    pred_128 = np.zeros((n, 128, 128), dtype=np.uint8)\n",
    "    x_128 = np.zeros((n, 128, 128), dtype=np.float32)"
   ]
  },
  {
   "cell_type": "markdown",
   "metadata": {},
   "source": [
    "### Fill in arrays with 2D images"
   ]
  },
  {
   "cell_type": "code",
   "execution_count": 21,
   "metadata": {},
   "outputs": [
    {
     "name": "stdout",
     "output_type": "stream",
     "text": [
      "CPU times: user 6min 35s, sys: 13.4 s, total: 6min 48s\n",
      "Wall time: 12.8 s\n"
     ]
    }
   ],
   "source": [
    "%%time\n",
    "# Fill in fsl_128 and pred_128 with label and prediction\n",
    "fillin = 1\n",
    "if fillin:\n",
    "    k = 0\n",
    "    for k in range(n):\n",
    "        x,y = learn.data.valid_ds[k]  \n",
    "        p,_,_ = learn.predict(x)\n",
    "\n",
    "        fsl_128[k,:,:] = np.squeeze(to_np(y))\n",
    "        x_128[k,:,:] = np.squeeze(to_np(x))\n",
    "        pred_128[k,:,:] = np.squeeze(to_np(p))  \n",
    "        print(f'{k:06}/{n}', end='\\r')\n",
    "        k += 1"
   ]
  },
  {
   "cell_type": "markdown",
   "metadata": {},
   "source": [
    "### Save predictinos to a disc"
   ]
  },
  {
   "cell_type": "code",
   "execution_count": 22,
   "metadata": {},
   "outputs": [
    {
     "name": "stdout",
     "output_type": "stream",
     "text": [
      "/data-10tb/shared/skull/al-image/3.01_axial_t1_uncompressed_results\n",
      "CPU times: user 1.56 s, sys: 124 ms, total: 1.68 s\n",
      "Wall time: 52.6 ms\n"
     ]
    }
   ],
   "source": [
    "%%time\n",
    "save1 = 1\n",
    "if save1:  \n",
    "    # create a df with all 2d filenames\n",
    "    full_names = list(learn.data.valid_dl.items)\n",
    "    mask_full_path=list(df_main.msk)\n",
    "    # save matrix with predictions to npz file\n",
    "    # save uncompressed \n",
    "    save_name = f'3.01_{PLANE_NAME}_{IMAGET_TYPE}_uncompressed_results'\n",
    "    save_pth = MAIN_PTH / save_name\n",
    "    np.savez(save_pth, full_names=full_names, fsl_128=fsl_128, pred_128=pred_128, x_128=x_128, mask_full_path=mask_full_path)\n",
    "    print(save_pth)"
   ]
  },
  {
   "cell_type": "markdown",
   "metadata": {},
   "source": [
    "### DICE / JACCARD"
   ]
  },
  {
   "cell_type": "code",
   "execution_count": 23,
   "metadata": {},
   "outputs": [],
   "source": [
    "def dice(im1, im2):\n",
    "    im1 = np.asarray(im1).astype(np.bool)\n",
    "    im2 = np.asarray(im2).astype(np.bool)\n",
    "\n",
    "    if im1.shape != im2.shape:\n",
    "        raise ValueError(\"Shape mismatch: im1 and im2 must have the same shape.\")\n",
    "\n",
    "    # Compute Dice coefficient\n",
    "    intersection = np.logical_and(im1, im2)\n",
    "    return 2. * intersection.sum() / (im1.sum() + im2.sum())"
   ]
  },
  {
   "cell_type": "code",
   "execution_count": 24,
   "metadata": {},
   "outputs": [
    {
     "name": "stdout",
     "output_type": "stream",
     "text": [
      "Dice = 0.9235\n",
      "Jaccard = 0.8579\n",
      "Hausdorf sum = 397.3515\n",
      "Hausdorf sum = 2.1953\n",
      "\n",
      "CPU times: user 34.3 s, sys: 1.59 s, total: 35.9 s\n",
      "Wall time: 1.2 s\n"
     ]
    }
   ],
   "source": [
    "%%time\n",
    "\n",
    "# Get a 3D images of a single patient (e.g. 170x128x128)\n",
    "xP = x_128   \n",
    "yP = fsl_128  \n",
    "pP = pred_128  \n",
    "\n",
    "dice_jaccard_hausdorff = 'DJH'\n",
    "\n",
    "if 'D' in dice_jaccard_hausdorff:\n",
    "    dice_c = dice(yP.flat[:], pP.flat[:])\n",
    "    print(f'Dice = {dice_c:.4f}')\n",
    "\n",
    "if 'J' in dice_jaccard_hausdorff:\n",
    "    jaccard_c = jaccard_score(yP.flat[:], pP.flat[:])\n",
    "    print(f'Jaccard = {jaccard_c:.4f}')\n",
    "\n",
    "# how to calculate it? what metric? total sum?\n",
    "if 'H' in dice_jaccard_hausdorff:\n",
    "    sh = xP.shape[0]\n",
    "    h = np.zeros(sh)\n",
    "    for kk in range(sh):\n",
    "        h[kk] = directed_hausdorff(yP[kk,:,:], pP[kk,:,:])[0]\n",
    "    print(f'Hausdorf sum = {h.sum():.4f}')\n",
    "    print(f'Hausdorf sum = {h.mean():.4f}')\n",
    "print()"
   ]
  },
  {
   "cell_type": "code",
   "execution_count": 214,
   "metadata": {},
   "outputs": [
    {
     "data": {
      "text/plain": [
       "(2965504,)"
      ]
     },
     "execution_count": 214,
     "metadata": {},
     "output_type": "execute_result"
    }
   ],
   "source": []
  },
  {
   "cell_type": "code",
   "execution_count": 212,
   "metadata": {},
   "outputs": [
    {
     "data": {
      "text/plain": [
       "(2965504,)"
      ]
     },
     "execution_count": 212,
     "metadata": {},
     "output_type": "execute_result"
    }
   ],
   "source": []
  },
  {
   "cell_type": "code",
   "execution_count": null,
   "metadata": {},
   "outputs": [],
   "source": []
  }
 ],
 "metadata": {
  "kernelspec": {
   "display_name": "fastai1",
   "language": "python",
   "name": "fastai1"
  },
  "language_info": {
   "codemirror_mode": {
    "name": "ipython",
    "version": 3
   },
   "file_extension": ".py",
   "mimetype": "text/x-python",
   "name": "python",
   "nbconvert_exporter": "python",
   "pygments_lexer": "ipython3",
   "version": "3.7.4"
  }
 },
 "nbformat": 4,
 "nbformat_minor": 4
}
